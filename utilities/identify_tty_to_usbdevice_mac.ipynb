{
 "cells": [
  {
   "cell_type": "markdown",
   "metadata": {},
   "source": [
    "# Goal\n",
    "- Why? give a container access to host's USB Android devices. So that we can use one of [AndroidSDK docker](https://github.com/thyrlian/AndroidSDK#android-device) or [appium-docker-android](https://github.com/appium/appium-docker-android) on a Mac (e.g. OSX Catalina 10.15.7). So that we can map each device specifically to a docker-appium container and NOT necessarily have to give privileged access of the host to entire docker daemon using `docker run -it --privileged`\n",
    "- To be able to correlate a USB device plugged into a Mac host to one of /dev/ttys*\n",
    "- `ls /dev/tty*` - This command on mac lists all devices \n"
   ]
  },
  {
   "cell_type": "code",
   "execution_count": null,
   "metadata": {},
   "outputs": [],
   "source": [
    "# ! pip3 install plistlib\n",
    "! pip3 install nest-asyncio"
   ]
  },
  {
   "cell_type": "markdown",
   "metadata": {},
   "source": [
    "# This below cell just waits -- NOT CLEAR , but we part of this code below"
   ]
  },
  {
   "cell_type": "code",
   "execution_count": null,
   "metadata": {},
   "outputs": [],
   "source": [
    "import asyncio\n",
    "import plistlib\n",
    "from typing import Iterable\n",
    "\n",
    "import nest_asyncio\n",
    "nest_asyncio.apply()\n",
    "__import__('IPython').embed()\n",
    "\n",
    "\n",
    "def devices_from_bus(bus_entries: Iterable[dict]):\n",
    "    devices = []\n",
    "    for bus_entry in bus_entries:\n",
    "        if 'IORegistryEntryChildren' in bus_entry:\n",
    "            devices.extend(\n",
    "                devices_from_bus(bus_entry['IORegistryEntryChildren']))\n",
    "        else:\n",
    "            devices.append(bus_entry)\n",
    "    return devices\n",
    "\n",
    "\n",
    "async def probe_ioreg():\n",
    "    process = await asyncio.create_subprocess_exec(\n",
    "        'ioreg', '-p', 'IOUSB', '-a', '-l',\n",
    "        stdout=asyncio.subprocess.PIPE)\n",
    "    ioreg_stdout: bytes = (await process.communicate())[0]\n",
    "    return plistlib.loads(ioreg_stdout, fmt=plistlib.FMT_XML)\n",
    "\n",
    "\n",
    "def main():\n",
    "    loop = asyncio.get_event_loop()\n",
    "    ioreg = loop.run_until_complete(probe_ioreg())\n",
    "    devices = devices_from_bus(ioreg['IORegistryEntryChildren'])\n",
    "    for device in devices:\n",
    "        if not device['Built-In']:\n",
    "            print(f\"Got device: {device['IORegistryEntryName']}\")\n",
    "\n",
    "\n",
    "if __name__ == '__main__':\n",
    "    main()"
   ]
  },
  {
   "cell_type": "markdown",
   "metadata": {},
   "source": [
    "# Execute the below command\n",
    "- `ioreg -p IOUSB -a -l > blah.xml`"
   ]
  },
  {
   "cell_type": "code",
   "execution_count": null,
   "metadata": {},
   "outputs": [],
   "source": [
    "import plistlib\n",
    "with open(\"blah.xml\", 'rb') as fp:\n",
    "    ioreg = plistlib.load(fp)\n",
    "ioreg"
   ]
  },
  {
   "cell_type": "code",
   "execution_count": 7,
   "metadata": {},
   "outputs": [
    {
     "name": "stdout",
     "output_type": "stream",
     "text": [
      "Got device: USB 10/100/1000 LAN\n",
      "Got device: USB2.0 Hub             \n",
      "Got device: USB 2.0 BILLBOARD             \n",
      "Got device: Nexus 6P\n"
     ]
    }
   ],
   "source": [
    "import asyncio\n",
    "import plistlib\n",
    "from collections.abc import Iterable\n",
    "\n",
    "def devices_from_bus(bus_entries: Iterable[dict]):\n",
    "    devices = []\n",
    "    for bus_entry in bus_entries:\n",
    "        if 'IORegistryEntryChildren' in bus_entry:\n",
    "            devices.extend(\n",
    "                devices_from_bus(bus_entry['IORegistryEntryChildren']))\n",
    "        else:\n",
    "            devices.append(bus_entry)\n",
    "    return devices\n",
    "\n",
    "devices = devices_from_bus(ioreg['IORegistryEntryChildren'])\n",
    "for device in devices:\n",
    "    if not device['Built-In']:\n",
    "        print(f\"Got device: {device['IORegistryEntryName']}\")"
   ]
  },
  {
   "cell_type": "markdown",
   "metadata": {},
   "source": [
    "# More work \n",
    "- to understand the xml structure and ultimately tied \"Nexus 6p\" to /dev/ttys<number>\n",
    "- ioreg -p IOUSB -a -l > blah.xml"
   ]
  }
 ],
 "metadata": {
  "kernelspec": {
   "display_name": "Python 3",
   "language": "python",
   "name": "python3"
  },
  "language_info": {
   "codemirror_mode": {
    "name": "ipython",
    "version": 3
   },
   "file_extension": ".py",
   "mimetype": "text/x-python",
   "name": "python",
   "nbconvert_exporter": "python",
   "pygments_lexer": "ipython3",
   "version": "3.9.6"
  }
 },
 "nbformat": 4,
 "nbformat_minor": 4
}
